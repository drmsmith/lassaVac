{
 "cells": [
  {
   "cell_type": "code",
   "execution_count": 2,
   "metadata": {},
   "outputs": [],
   "source": [
    "import os\n",
    "import numpy as np \n",
    "import pandas as pd\n",
    "import matplotlib.pyplot as plt\n",
    "\n",
    "from ipywidgets import interactive, FloatSlider, IntSlider, HBox, interactive_output"
   ]
  },
  {
   "cell_type": "code",
   "execution_count": 3,
   "metadata": {},
   "outputs": [
    {
     "data": {
      "text/html": [
       "<div>\n",
       "<style scoped>\n",
       "    .dataframe tbody tr th:only-of-type {\n",
       "        vertical-align: middle;\n",
       "    }\n",
       "\n",
       "    .dataframe tbody tr th {\n",
       "        vertical-align: top;\n",
       "    }\n",
       "\n",
       "    .dataframe thead th {\n",
       "        text-align: right;\n",
       "    }\n",
       "</style>\n",
       "<table border=\"1\" class=\"dataframe\">\n",
       "  <thead>\n",
       "    <tr style=\"text-align: right;\">\n",
       "      <th></th>\n",
       "      <th>country_name</th>\n",
       "      <th>country_code</th>\n",
       "      <th>region_name</th>\n",
       "      <th>region_code</th>\n",
       "      <th>mean_suit</th>\n",
       "      <th>mean_pop_weighted</th>\n",
       "      <th>pop_size</th>\n",
       "      <th>p_spillover</th>\n",
       "    </tr>\n",
       "  </thead>\n",
       "  <tbody>\n",
       "    <tr>\n",
       "      <th>0</th>\n",
       "      <td>Afghanistan</td>\n",
       "      <td>AFG</td>\n",
       "      <td>Eastern Mediterranean</td>\n",
       "      <td>EMR</td>\n",
       "      <td>0.080765</td>\n",
       "      <td>0.143039</td>\n",
       "      <td>3.885903e+07</td>\n",
       "      <td>0.001473</td>\n",
       "    </tr>\n",
       "    <tr>\n",
       "      <th>1</th>\n",
       "      <td>Angola</td>\n",
       "      <td>AGO</td>\n",
       "      <td>Africa</td>\n",
       "      <td>AFR</td>\n",
       "      <td>0.416124</td>\n",
       "      <td>0.429000</td>\n",
       "      <td>3.238916e+07</td>\n",
       "      <td>0.004418</td>\n",
       "    </tr>\n",
       "    <tr>\n",
       "      <th>2</th>\n",
       "      <td>Albania</td>\n",
       "      <td>ALB</td>\n",
       "      <td>Europe</td>\n",
       "      <td>EUR</td>\n",
       "      <td>0.155770</td>\n",
       "      <td>0.272865</td>\n",
       "      <td>2.851804e+06</td>\n",
       "      <td>0.002810</td>\n",
       "    </tr>\n",
       "    <tr>\n",
       "      <th>3</th>\n",
       "      <td>Andorra</td>\n",
       "      <td>AND</td>\n",
       "      <td>Europe</td>\n",
       "      <td>EUR</td>\n",
       "      <td>0.061366</td>\n",
       "      <td>0.055334</td>\n",
       "      <td>7.716108e+04</td>\n",
       "      <td>0.000570</td>\n",
       "    </tr>\n",
       "    <tr>\n",
       "      <th>4</th>\n",
       "      <td>United Arab Emirates</td>\n",
       "      <td>ARE</td>\n",
       "      <td>Eastern Mediterranean</td>\n",
       "      <td>EMR</td>\n",
       "      <td>0.112225</td>\n",
       "      <td>0.161808</td>\n",
       "      <td>9.534323e+06</td>\n",
       "      <td>0.001666</td>\n",
       "    </tr>\n",
       "  </tbody>\n",
       "</table>\n",
       "</div>"
      ],
      "text/plain": [
       "           country_name country_code            region_name region_code  \\\n",
       "0           Afghanistan          AFG  Eastern Mediterranean         EMR   \n",
       "1                Angola          AGO                 Africa         AFR   \n",
       "2               Albania          ALB                 Europe         EUR   \n",
       "3               Andorra          AND                 Europe         EUR   \n",
       "4  United Arab Emirates          ARE  Eastern Mediterranean         EMR   \n",
       "\n",
       "   mean_suit  mean_pop_weighted      pop_size  p_spillover  \n",
       "0   0.080765           0.143039  3.885903e+07     0.001473  \n",
       "1   0.416124           0.429000  3.238916e+07     0.004418  \n",
       "2   0.155770           0.272865  2.851804e+06     0.002810  \n",
       "3   0.061366           0.055334  7.716108e+04     0.000570  \n",
       "4   0.112225           0.161808  9.534323e+06     0.001666  "
      ]
     },
     "execution_count": 3,
     "metadata": {},
     "output_type": "execute_result"
    }
   ],
   "source": [
    "# read in suitability \n",
    "df_burden = pd.read_csv(\"../../data/df_suit_means_pop_wght_pop_size_who_regions.csv\")\n",
    "df_burden.head()"
   ]
  },
  {
   "cell_type": "code",
   "execution_count": 4,
   "metadata": {},
   "outputs": [
    {
     "name": "stdout",
     "output_type": "stream",
     "text": [
      "Total n countries: 188\n"
     ]
    }
   ],
   "source": [
    "# mobility data (daily trips between src and dest)\n",
    "# mobility info for 188 countries\n",
    "mat_mob_daily_trips = pd.read_csv(\"../../data/df_mat_mob_n_daily_trips.csv\")\n",
    "all_codes = mat_mob_daily_trips.columns.tolist()\n",
    "print('Total n countries:', len(all_codes))"
   ]
  },
  {
   "cell_type": "code",
   "execution_count": 5,
   "metadata": {},
   "outputs": [
    {
     "name": "stdout",
     "output_type": "stream",
     "text": [
      "Total countries with suitability: (184, 8)\n"
     ]
    }
   ],
   "source": [
    "# ensure mobility data and suitability data are matched \n",
    "# since there are fewer countries on the mobility data set \n",
    "# 220 vs 188 (suit vs mobility)\n",
    "# final number is 184 for some reason\n",
    "df_burden = df_burden[df_burden[\"country_code\"].isin(all_codes)].dropna()\n",
    "print('Total countries with suitability:', df_burden.shape)\n",
    "suit_vals = np.array(df_burden['mean_pop_weighted'].tolist())"
   ]
  },
  {
   "cell_type": "code",
   "execution_count": 6,
   "metadata": {},
   "outputs": [
    {
     "data": {
      "image/png": "[encoded data removed]",
      "text/plain": [
       "<Figure size 640x480 with 1 Axes>"
      ]
     },
     "metadata": {},
     "output_type": "display_data"
    }
   ],
   "source": [
    "plt.hist(suit_vals, bins=30, color='#547dbf', edgecolor='white')\n",
    "\n",
    "plt.xlabel('Population-weighted mean suitability')\n",
    "plt.ylabel('Frequency')\n",
    "plt.xlim(0, 1);"
   ]
  },
  {
   "cell_type": "code",
   "execution_count": 11,
   "metadata": {},
   "outputs": [
    {
     "data": {
      "application/vnd.jupyter.widget-view+json": {
       "model_id": "e45538676f454d2a9134e89e6b008b7a",
       "version_major": 2,
       "version_minor": 0
      },
      "text/plain": [
       "interactive(children=(FloatSlider(value=1.0, continuous_update=False, description='fact_f', max=1.0, min=0.05,…"
      ]
     },
     "execution_count": 11,
     "metadata": {},
     "output_type": "execute_result"
    }
   ],
   "source": [
    "def plot_suit_transform(fact_f, fact_k):\n",
    "    suit_vals_new = fact_f*suit_vals**fact_k\n",
    "    plt.hist(suit_vals_new, bins=30, color='#547dbf', edgecolor='white')\n",
    "    plt.xlabel('Population-weighted mean suitability')\n",
    "    plt.ylabel('Frequency')\n",
    "    # plt.xlim(0, 1); # typical\n",
    "    plt.xlim(0, 0.2); # typical\n",
    "\n",
    "# initial values \n",
    "fact_f = 1\n",
    "fact_k = 1\n",
    "\n",
    "# widgets\n",
    "fact_f_widget = FloatSlider(min=0.05, max=1, step=0.05, value=fact_f, readout_format='.2f')\n",
    "fact_f_widget.continuous_update=False\n",
    "\n",
    "fact_k_widget = FloatSlider(min=1, max=10, step=0.05, value=fact_k, readout_format='.2f')\n",
    "fact_k_widget.continuous_update=False\n",
    "\n",
    "# interactive plot with sliders \n",
    "interactive(plot_suit_transform, fact_f=fact_f_widget, fact_k=fact_k_widget)"
   ]
  },
  {
   "cell_type": "code",
   "execution_count": null,
   "metadata": {},
   "outputs": [],
   "source": []
  }
 ],
 "metadata": {
  "kernelspec": {
   "display_name": "base",
   "language": "python",
   "name": "python3"
  },
  "language_info": {
   "codemirror_mode": {
    "name": "ipython",
    "version": 3
   },
   "file_extension": ".py",
   "mimetype": "text/x-python",
   "name": "python",
   "nbconvert_exporter": "python",
   "pygments_lexer": "ipython3",
   "version": "3.9.13"
  },
  "orig_nbformat": 4,
  "vscode": {
   "interpreter": {
    "hash": "7cdafee1362939508a8f80f806d0d9e95b0c7b5e96808a18d61c1da30a8acf3c"
   }
  }
 },
 "nbformat": 4,
 "nbformat_minor": 2
}
