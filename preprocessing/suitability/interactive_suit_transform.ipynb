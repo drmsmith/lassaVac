{
 "cells": [
  {
   "cell_type": "code",
   "execution_count": 1,
   "metadata": {},
   "outputs": [],
   "source": [
    "import os\n",
    "import numpy as np \n",
    "import pandas as pd\n",
    "import matplotlib.pyplot as plt\n",
    "\n",
    "from ipywidgets import interactive, FloatSlider, IntSlider, HBox, interactive_output"
   ]
  },
  {
   "cell_type": "code",
   "execution_count": 2,
   "metadata": {},
   "outputs": [
    {
     "data": {
      "text/html": [
       "<div>\n",
       "<style scoped>\n",
       "    .dataframe tbody tr th:only-of-type {\n",
       "        vertical-align: middle;\n",
       "    }\n",
       "\n",
       "    .dataframe tbody tr th {\n",
       "        vertical-align: top;\n",
       "    }\n",
       "\n",
       "    .dataframe thead th {\n",
       "        text-align: right;\n",
       "    }\n",
       "</style>\n",
       "<table border=\"1\" class=\"dataframe\">\n",
       "  <thead>\n",
       "    <tr style=\"text-align: right;\">\n",
       "      <th></th>\n",
       "      <th>country</th>\n",
       "      <th>code</th>\n",
       "      <th>region_name</th>\n",
       "      <th>region_code</th>\n",
       "      <th>pop_size</th>\n",
       "      <th>annual_incidence</th>\n",
       "      <th>p_spillover</th>\n",
       "      <th>mean_suit_ppp</th>\n",
       "      <th>mean_pop_weighted</th>\n",
       "      <th>mean_suit_pd</th>\n",
       "      <th>mean_pd_weighted</th>\n",
       "    </tr>\n",
       "  </thead>\n",
       "  <tbody>\n",
       "    <tr>\n",
       "      <th>0</th>\n",
       "      <td>Afghanistan</td>\n",
       "      <td>AFG</td>\n",
       "      <td>Eastern Mediterranean</td>\n",
       "      <td>EMR</td>\n",
       "      <td>3.797487e+07</td>\n",
       "      <td>1628.156651</td>\n",
       "      <td>4.363798e-04</td>\n",
       "      <td>0.011853</td>\n",
       "      <td>0.162248</td>\n",
       "      <td>0.011846</td>\n",
       "      <td>0.157944</td>\n",
       "    </tr>\n",
       "    <tr>\n",
       "      <th>1</th>\n",
       "      <td>Albania</td>\n",
       "      <td>ALB</td>\n",
       "      <td>Europe</td>\n",
       "      <td>EUR</td>\n",
       "      <td>2.854640e+06</td>\n",
       "      <td>498.772453</td>\n",
       "      <td>1.336814e-04</td>\n",
       "      <td>0.025896</td>\n",
       "      <td>0.332779</td>\n",
       "      <td>0.025606</td>\n",
       "      <td>0.318743</td>\n",
       "    </tr>\n",
       "    <tr>\n",
       "      <th>2</th>\n",
       "      <td>Algeria</td>\n",
       "      <td>DZA</td>\n",
       "      <td>Africa</td>\n",
       "      <td>AFR</td>\n",
       "      <td>4.278045e+07</td>\n",
       "      <td>5683.443742</td>\n",
       "      <td>1.523281e-03</td>\n",
       "      <td>0.009200</td>\n",
       "      <td>0.323862</td>\n",
       "      <td>0.009163</td>\n",
       "      <td>0.315791</td>\n",
       "    </tr>\n",
       "    <tr>\n",
       "      <th>3</th>\n",
       "      <td>Andorra</td>\n",
       "      <td>AND</td>\n",
       "      <td>Europe</td>\n",
       "      <td>EUR</td>\n",
       "      <td>7.704516e+04</td>\n",
       "      <td>0.458979</td>\n",
       "      <td>1.230158e-07</td>\n",
       "      <td>0.000000</td>\n",
       "      <td>0.000000</td>\n",
       "      <td>0.000000</td>\n",
       "      <td>0.000000</td>\n",
       "    </tr>\n",
       "    <tr>\n",
       "      <th>4</th>\n",
       "      <td>Antigua &amp; Barbuda</td>\n",
       "      <td>ATG</td>\n",
       "      <td>Americas</td>\n",
       "      <td>AMR</td>\n",
       "      <td>9.092723e+04</td>\n",
       "      <td>127.048267</td>\n",
       "      <td>3.405158e-05</td>\n",
       "      <td>0.893184</td>\n",
       "      <td>0.967288</td>\n",
       "      <td>0.846629</td>\n",
       "      <td>0.965878</td>\n",
       "    </tr>\n",
       "  </tbody>\n",
       "</table>\n",
       "</div>"
      ],
      "text/plain": [
       "             country code            region_name region_code      pop_size  \\\n",
       "0        Afghanistan  AFG  Eastern Mediterranean         EMR  3.797487e+07   \n",
       "1            Albania  ALB                 Europe         EUR  2.854640e+06   \n",
       "2            Algeria  DZA                 Africa         AFR  4.278045e+07   \n",
       "3            Andorra  AND                 Europe         EUR  7.704516e+04   \n",
       "4  Antigua & Barbuda  ATG               Americas         AMR  9.092723e+04   \n",
       "\n",
       "   annual_incidence   p_spillover  mean_suit_ppp  mean_pop_weighted  \\\n",
       "0       1628.156651  4.363798e-04       0.011853           0.162248   \n",
       "1        498.772453  1.336814e-04       0.025896           0.332779   \n",
       "2       5683.443742  1.523281e-03       0.009200           0.323862   \n",
       "3          0.458979  1.230158e-07       0.000000           0.000000   \n",
       "4        127.048267  3.405158e-05       0.893184           0.967288   \n",
       "\n",
       "   mean_suit_pd  mean_pd_weighted  \n",
       "0      0.011846          0.157944  \n",
       "1      0.025606          0.318743  \n",
       "2      0.009163          0.315791  \n",
       "3      0.000000          0.000000  \n",
       "4      0.846629          0.965878  "
      ]
     },
     "execution_count": 2,
     "metadata": {},
     "output_type": "execute_result"
    }
   ],
   "source": [
    "# read in suitability \n",
    "df_burden = pd.read_csv(\"../../data/2019ppp_pd_df_suit_means_who_p_spillover.csv\")\n",
    "df_burden.head()"
   ]
  },
  {
   "cell_type": "code",
   "execution_count": 3,
   "metadata": {},
   "outputs": [
    {
     "name": "stdout",
     "output_type": "stream",
     "text": [
      "Total n countries: 188\n"
     ]
    }
   ],
   "source": [
    "# mobility data (daily trips between src and dest)\n",
    "# mobility info for 188 countries\n",
    "mat_mob_daily_trips = pd.read_csv(\"../../data/df_mat_mob_n_daily_trips.csv\")\n",
    "all_codes = mat_mob_daily_trips.columns.tolist()\n",
    "print('Total n countries:', len(all_codes))"
   ]
  },
  {
   "cell_type": "code",
   "execution_count": 4,
   "metadata": {},
   "outputs": [
    {
     "name": "stdout",
     "output_type": "stream",
     "text": [
      "Total countries with suitability: (178, 11)\n"
     ]
    }
   ],
   "source": [
    "# ensure mobility data and suitability data are matched \n",
    "# since there are fewer countries on the mobility data set \n",
    "# 220 vs 188 (suit vs mobility)\n",
    "# final number is 184 for some reason\n",
    "df_burden = df_burden[df_burden[\"code\"].isin(all_codes)].dropna()\n",
    "print('Total countries with suitability:', df_burden.shape)\n",
    "suit_vals = np.array(df_burden['mean_pop_weighted'].tolist())"
   ]
  },
  {
   "cell_type": "code",
   "execution_count": 5,
   "metadata": {},
   "outputs": [
    {
     "data": {
      "image/png": "[encoded data removed]",
      "text/plain": [
       "<Figure size 640x480 with 1 Axes>"
      ]
     },
     "metadata": {},
     "output_type": "display_data"
    }
   ],
   "source": [
    "plt.hist(suit_vals, bins=30, color='#547dbf', edgecolor='white')\n",
    "\n",
    "plt.xlabel('Population-weighted mean suitability')\n",
    "plt.ylabel('Frequency')\n",
    "plt.xlim(0, 1);"
   ]
  },
  {
   "cell_type": "code",
   "execution_count": 6,
   "metadata": {},
   "outputs": [
    {
     "data": {
      "application/vnd.jupyter.widget-view+json": {
       "model_id": "cdaec8daed244825a44479f3e3546ca2",
       "version_major": 2,
       "version_minor": 0
      },
      "text/plain": [
       "interactive(children=(FloatSlider(value=1.0, continuous_update=False, description='fact_f', max=1.1, min=0.05,…"
      ]
     },
     "execution_count": 6,
     "metadata": {},
     "output_type": "execute_result"
    }
   ],
   "source": [
    "def plot_suit_transform(fact_f, fact_k):\n",
    "    suit_vals_new = fact_f*suit_vals**fact_k\n",
    "    plt.hist(suit_vals_new, bins=30, color='#547dbf', edgecolor='white')\n",
    "    plt.xlabel('Population-weighted mean suitability')\n",
    "    plt.ylabel('Frequency')\n",
    "    plt.xlim(0, 1); # typical\n",
    "    # plt.xlim(0, 0.2); # typical\n",
    "\n",
    "# initial values \n",
    "fact_f = 1\n",
    "fact_k = 1\n",
    "\n",
    "# widgets\n",
    "fact_f_widget = FloatSlider(min=0.05, max=1.1, step=0.05, value=fact_f, readout_format='.2f')\n",
    "fact_f_widget.continuous_update=False\n",
    "\n",
    "fact_k_widget = FloatSlider(min=0.01, max=1, step=0.01, value=fact_k, readout_format='.2f')\n",
    "fact_k_widget.continuous_update=False\n",
    "\n",
    "# interactive plot with sliders \n",
    "interactive(plot_suit_transform, fact_f=fact_f_widget, fact_k=fact_k_widget)"
   ]
  },
  {
   "cell_type": "code",
   "execution_count": 7,
   "metadata": {},
   "outputs": [
    {
     "data": {
      "application/vnd.jupyter.widget-view+json": {
       "model_id": "a49a2ff66fb349f7afec3e07ebb5edaa",
       "version_major": 2,
       "version_minor": 0
      },
      "text/plain": [
       "interactive(children=(FloatSlider(value=0.5, continuous_update=False, description='prop_boost', max=1.0, step=…"
      ]
     },
     "execution_count": 7,
     "metadata": {},
     "output_type": "execute_result"
    }
   ],
   "source": [
    "def plot_suit_transform_incr(prop_boost):\n",
    "    suit_vals_new = np.where(suit_vals < prop_boost, np.sqrt(2*suit_vals)/2, suit_vals)\n",
    "    plt.hist(suit_vals_new, bins=30, color='#547dbf', edgecolor='white')\n",
    "    plt.xlabel('Population-weighted mean suitability')\n",
    "    plt.ylabel('Frequency')\n",
    "    plt.xlim(0, 1); # typical\n",
    "    plt.ylim(0, 20); # typical\n",
    "\n",
    "# initial values \n",
    "prop_boost = 0.5\n",
    "\n",
    "# widgets\n",
    "prop_boost_widget = FloatSlider(min=0.0, max=1, step=0.05, value=prop_boost, readout_format='.2f')\n",
    "prop_boost_widget.continuous_update=False\n",
    "\n",
    "\n",
    "# interactive plot with sliders \n",
    "interactive(plot_suit_transform_incr, prop_boost=prop_boost_widget)"
   ]
  },
  {
   "cell_type": "code",
   "execution_count": 9,
   "metadata": {},
   "outputs": [
    {
     "data": {
      "application/vnd.jupyter.widget-view+json": {
       "model_id": "507855074caa49919e84bb4b60f49f94",
       "version_major": 2,
       "version_minor": 0
      },
      "text/plain": [
       "interactive(children=(FloatSlider(value=0.5, continuous_update=False, description='prop_boost', max=1.0, step=…"
      ]
     },
     "execution_count": 9,
     "metadata": {},
     "output_type": "execute_result"
    }
   ],
   "source": [
    "def plot_suit_transform_decr(prop_boost):\n",
    "    suit_vals_new = np.where(suit_vals > prop_boost, (suit_vals)**2, suit_vals)\n",
    "    plt.hist(suit_vals_new, bins=30, color='#547dbf', edgecolor='white')\n",
    "    plt.xlabel('Population-weighted mean suitability')\n",
    "    plt.ylabel('Frequency')\n",
    "    plt.xlim(0, 1); # typical\n",
    "    plt.ylim(0, 20); # typical\n",
    "\n",
    "# initial values \n",
    "prop_boost = 0.5\n",
    "\n",
    "# widgets\n",
    "prop_boost_widget = FloatSlider(min=0.0, max=1, step=0.05, value=prop_boost, readout_format='.2f')\n",
    "prop_boost_widget.continuous_update=False\n",
    "\n",
    "\n",
    "# interactive plot with sliders \n",
    "interactive(plot_suit_transform_decr, prop_boost=prop_boost_widget)"
   ]
  }
 ],
 "metadata": {
  "kernelspec": {
   "display_name": "base",
   "language": "python",
   "name": "python3"
  },
  "language_info": {
   "codemirror_mode": {
    "name": "ipython",
    "version": 3
   },
   "file_extension": ".py",
   "mimetype": "text/x-python",
   "name": "python",
   "nbconvert_exporter": "python",
   "pygments_lexer": "ipython3",
   "version": "3.9.13"
  },
  "orig_nbformat": 4,
  "vscode": {
   "interpreter": {
    "hash": "7cdafee1362939508a8f80f806d0d9e95b0c7b5e96808a18d61c1da30a8acf3c"
   }
  }
 },
 "nbformat": 4,
 "nbformat_minor": 2
}
